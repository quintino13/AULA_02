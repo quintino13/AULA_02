{
  "nbformat": 4,
  "nbformat_minor": 0,
  "metadata": {
    "colab": {
      "provenance": [],
      "authorship_tag": "ABX9TyM+3FcA0VUEIryqTSk9xNtX",
      "include_colab_link": true
    },
    "kernelspec": {
      "name": "python3",
      "display_name": "Python 3"
    },
    "language_info": {
      "name": "python"
    }
  },
  "cells": [
    {
      "cell_type": "markdown",
      "metadata": {
        "id": "view-in-github",
        "colab_type": "text"
      },
      "source": [
        "<a href=\"https://colab.research.google.com/github/quintino13/AULA_02/blob/main/aula_02.ipynb\" target=\"_parent\"><img src=\"https://colab.research.google.com/assets/colab-badge.svg\" alt=\"Open In Colab\"/></a>"
      ]
    },
    {
      "cell_type": "markdown",
      "source": [
        "Ex.1) Converter F para C\n",
        "C = (5/9)(F-32)"
      ],
      "metadata": {
        "id": "H8SbwjzMfJMe"
      }
    },
    {
      "cell_type": "code",
      "source": [
        "F = float(input(\"Digite valor em Graus Farenheit: \"))\n",
        "C = (5/9)*(F-32)\n",
        "print(f\"O valor de {F}ºFarenheit corresponde ao valor de {C}ºC\")"
      ],
      "metadata": {
        "colab": {
          "base_uri": "https://localhost:8080/"
        },
        "id": "yM04B0L9fLNk",
        "outputId": "4fb12a77-8cf6-49d9-94b7-bb59438d0867"
      },
      "execution_count": 4,
      "outputs": [
        {
          "output_type": "stream",
          "name": "stdout",
          "text": [
            "Digite valor em Graus Farenheit: 1234\n",
            "O valor de 1234.0ºFarenheit corresponde ao valor de 667.7777777777778ºC\n"
          ]
        }
      ]
    },
    {
      "cell_type": "markdown",
      "source": [
        "EX02) Converter Polegadas para mm\n",
        "Entrada:P\n",
        "Processamento: MM = P*25.4\n",
        "Saída:MM"
      ],
      "metadata": {
        "id": "fHI_4VJ6j__T"
      }
    },
    {
      "cell_type": "code",
      "source": [
        "P = float(input(\"Digite valor em Polegadas: \"))\n",
        "MM = P*25.4\n",
        "print(f\"O valor de {P}pol corresponde ao valor de{MM: .2f}mm\")"
      ],
      "metadata": {
        "colab": {
          "base_uri": "https://localhost:8080/"
        },
        "id": "2tEkwmPqkL7f",
        "outputId": "d68ae06b-3197-4057-cf50-536ee2801350"
      },
      "execution_count": 13,
      "outputs": [
        {
          "output_type": "stream",
          "name": "stdout",
          "text": [
            "Digite valor em Polegadas: 10.1\n",
            "O valor de 10.1pol corresponde ao valor de 256.54mm\n"
          ]
        }
      ]
    }
  ]
}